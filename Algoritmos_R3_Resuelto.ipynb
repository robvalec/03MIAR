{
  "nbformat": 4,
  "nbformat_minor": 0,
  "metadata": {
    "colab": {
      "provenance": []
    },
    "kernelspec": {
      "name": "python3",
      "display_name": "Python 3"
    },
    "language_info": {
      "name": "python"
    }
  },
  "cells": [
    {
      "cell_type": "code",
      "execution_count": 1,
      "metadata": {
        "colab": {
          "base_uri": "https://localhost:8080/",
          "height": 0
        },
        "id": "ABFhCFJKS_OH",
        "outputId": "15416b5c-a0c1-469f-f20c-91bfc80692f7"
      },
      "outputs": [
        {
          "output_type": "stream",
          "name": "stdout",
          "text": [
            "Requirement already satisfied: requests in /usr/local/lib/python3.10/dist-packages (2.31.0)\n",
            "Requirement already satisfied: charset-normalizer<4,>=2 in /usr/local/lib/python3.10/dist-packages (from requests) (3.3.2)\n",
            "Requirement already satisfied: idna<4,>=2.5 in /usr/local/lib/python3.10/dist-packages (from requests) (3.6)\n",
            "Requirement already satisfied: urllib3<3,>=1.21.1 in /usr/local/lib/python3.10/dist-packages (from requests) (2.0.7)\n",
            "Requirement already satisfied: certifi>=2017.4.17 in /usr/local/lib/python3.10/dist-packages (from requests) (2024.2.2)\n",
            "Collecting tsplib95\n",
            "  Downloading tsplib95-0.7.1-py2.py3-none-any.whl (25 kB)\n",
            "Requirement already satisfied: Click>=6.0 in /usr/local/lib/python3.10/dist-packages (from tsplib95) (8.1.7)\n",
            "Collecting Deprecated~=1.2.9 (from tsplib95)\n",
            "  Downloading Deprecated-1.2.14-py2.py3-none-any.whl (9.6 kB)\n",
            "Collecting networkx~=2.1 (from tsplib95)\n",
            "  Downloading networkx-2.8.8-py3-none-any.whl (2.0 MB)\n",
            "\u001b[2K     \u001b[90m━━━━━━━━━━━━━━━━━━━━━━━━━━━━━━━━━━━━━━━━\u001b[0m \u001b[32m2.0/2.0 MB\u001b[0m \u001b[31m32.2 MB/s\u001b[0m eta \u001b[36m0:00:00\u001b[0m\n",
            "\u001b[?25hCollecting tabulate~=0.8.7 (from tsplib95)\n",
            "  Downloading tabulate-0.8.10-py3-none-any.whl (29 kB)\n",
            "Requirement already satisfied: wrapt<2,>=1.10 in /usr/local/lib/python3.10/dist-packages (from Deprecated~=1.2.9->tsplib95) (1.14.1)\n",
            "Installing collected packages: tabulate, networkx, Deprecated, tsplib95\n",
            "  Attempting uninstall: tabulate\n",
            "    Found existing installation: tabulate 0.9.0\n",
            "    Uninstalling tabulate-0.9.0:\n",
            "      Successfully uninstalled tabulate-0.9.0\n",
            "  Attempting uninstall: networkx\n",
            "    Found existing installation: networkx 3.2.1\n",
            "    Uninstalling networkx-3.2.1:\n",
            "      Successfully uninstalled networkx-3.2.1\n",
            "\u001b[31mERROR: pip's dependency resolver does not currently take into account all the packages that are installed. This behaviour is the source of the following dependency conflicts.\n",
            "bigframes 0.21.0 requires tabulate>=0.9, but you have tabulate 0.8.10 which is incompatible.\u001b[0m\u001b[31m\n",
            "\u001b[0mSuccessfully installed Deprecated-1.2.14 networkx-2.8.8 tabulate-0.8.10 tsplib95-0.7.1\n"
          ]
        }
      ],
      "source": [
        "!pip install requests    #Hacer llamadas http a paginas de la red\n",
        "!pip install tsplib95    #Modulo para las instancias del problema del TSP"
      ]
    },
    {
      "cell_type": "code",
      "metadata": {
        "id": "mnA47nhtdKOc",
        "colab": {
          "base_uri": "https://localhost:8080/",
          "height": 0
        },
        "outputId": "d7919661-3433-48bb-e763-e27460b5f06e"
      },
      "source": [
        "import urllib.request #Hacer llamadas http a paginas de la red\n",
        "import tsplib95       #Modulo para las instancias del problema del TSP\n",
        "import math           #Modulo de funciones matematicas. Se usa para exp\n",
        "import random         #Para generar valores aleatorios\n",
        "\n",
        "\n",
        "#http://elib.zib.de/pub/mp-testdata/tsp/tsplib/\n",
        "#Documentacion :\n",
        "  # http://comopt.ifi.uni-heidelberg.de/software/TSPLIB95/tsp95.pdf\n",
        "  # https://tsplib95.readthedocs.io/en/stable/pages/usage.html\n",
        "  # https://tsplib95.readthedocs.io/en/v0.6.1/modules.html\n",
        "  # https://pypi.org/project/tsplib95/\n",
        "\n",
        "#Descargamos el fichero de datos(Matriz de distancias)\n",
        "file = \"swiss42.tsp\" ;\n",
        "urllib.request.urlretrieve(\"http://comopt.ifi.uni-heidelberg.de/software/TSPLIB95/tsp/swiss42.tsp.gz\", file + '.gz')\n",
        "!gzip -d swiss42.tsp.gz     #Descomprimir el fichero de datos\n",
        "\n",
        "#Coordendas 51-city problem (Christofides/Eilon)\n",
        "#file = \"eil51.tsp\" ; urllib.request.urlretrieve(\"http://comopt.ifi.uni-heidelberg.de/software/TSPLIB95/tsp/eil51.tsp.gz\", file)\n",
        "\n",
        "#Coordenadas - 48 capitals of the US (Padberg/Rinaldi)\n",
        "#file = \"att48.tsp\" ; urllib.request.urlretrieve(\"http://comopt.ifi.uni-heidelberg.de/software/TSPLIB95/tsp/att48.tsp.gz\", file)"
      ],
      "execution_count": 2,
      "outputs": [
        {
          "output_type": "stream",
          "name": "stdout",
          "text": [
            "gzip: swiss42.tsp already exists; do you wish to overwrite (y or n)? n\n",
            "\tnot overwritten\n"
          ]
        }
      ]
    },
    {
      "cell_type": "code",
      "metadata": {
        "id": "RIXYkDWcfmwd"
      },
      "source": [
        "#Carga de datos y generación de objeto problem\n",
        "###############################################################################\n",
        "problem = tsplib95.load(file)\n",
        "\n",
        "#Nodos\n",
        "Nodos = list(problem.get_nodes())\n",
        "\n",
        "#Aristas\n",
        "Aristas = list(problem.get_edges())\n",
        "\n"
      ],
      "execution_count": 3,
      "outputs": []
    },
    {
      "cell_type": "code",
      "metadata": {
        "id": "a7bTofSnn_Jt",
        "colab": {
          "base_uri": "https://localhost:8080/",
          "height": 0
        },
        "outputId": "862b388c-d99a-4fab-b6ab-b8ee9894172a"
      },
      "source": [
        "#Probamos algunas funciones del objeto problem\n",
        "\n",
        "#Distancia entre nodos\n",
        "problem.get_weight(0, 1)\n",
        "\n",
        "#Todas las funciones\n",
        "#Documentación: https://tsplib95.readthedocs.io/en/v0.6.1/modules.html\n",
        "\n",
        "#dir(problem)"
      ],
      "execution_count": 4,
      "outputs": [
        {
          "output_type": "execute_result",
          "data": {
            "text/plain": [
              "15"
            ]
          },
          "metadata": {},
          "execution_count": 4
        }
      ]
    },
    {
      "cell_type": "code",
      "metadata": {
        "id": "tzrkaBS3gmmz",
        "colab": {
          "base_uri": "https://localhost:8080/",
          "height": 0
        },
        "outputId": "b836265c-df6a-4fee-e835-5f739f7a9452"
      },
      "source": [
        "\n",
        "#Funcionas basicas\n",
        "###############################################################################\n",
        "\n",
        "#Se genera una solucion aleatoria con comienzo en en el nodo 0\n",
        "def crear_solucion(Nodos):\n",
        "  solucion = [Nodos[0]]\n",
        "  for n in Nodos[1:]:\n",
        "    solucion = solucion + [random.choice(list(set(Nodos) - set({Nodos[0]}) - set(solucion)))]\n",
        "  return solucion\n",
        "\n",
        "#Devuelve la distancia entre dos nodos\n",
        "def distancia(a,b, problem):\n",
        "  return problem.get_weight(a,b)\n",
        "\n",
        "#Devuelve la distancia total de una trayectoria/solucion\n",
        "def distancia_total(solucion, problem):\n",
        "  distancia_total = 0\n",
        "  for i in range(len(solucion)-1):\n",
        "    distancia_total += distancia(solucion[i] ,solucion[i+1] ,  problem)\n",
        "  return distancia_total + distancia(solucion[len(solucion)-1] ,solucion[0], problem)\n",
        "\n",
        "sol_temporal = crear_solucion(Nodos)\n",
        "solucion = crear_solucion(Nodos)\n",
        "print(solucion)\n",
        "distancia_total(sol_temporal, problem), sol_temporal"
      ],
      "execution_count": 63,
      "outputs": [
        {
          "output_type": "stream",
          "name": "stdout",
          "text": [
            "[0, 30, 1, 18, 36, 13, 38, 8, 24, 41, 16, 6, 17, 34, 9, 27, 39, 26, 2, 33, 20, 29, 3, 10, 19, 14, 11, 32, 37, 23, 4, 5, 25, 7, 12, 40, 31, 22, 28, 21, 15, 35]\n"
          ]
        },
        {
          "output_type": "execute_result",
          "data": {
            "text/plain": [
              "(5088,\n",
              " [0,\n",
              "  9,\n",
              "  17,\n",
              "  38,\n",
              "  37,\n",
              "  19,\n",
              "  31,\n",
              "  29,\n",
              "  27,\n",
              "  16,\n",
              "  10,\n",
              "  22,\n",
              "  21,\n",
              "  3,\n",
              "  36,\n",
              "  2,\n",
              "  6,\n",
              "  8,\n",
              "  35,\n",
              "  12,\n",
              "  41,\n",
              "  26,\n",
              "  40,\n",
              "  5,\n",
              "  20,\n",
              "  23,\n",
              "  28,\n",
              "  13,\n",
              "  4,\n",
              "  15,\n",
              "  32,\n",
              "  30,\n",
              "  33,\n",
              "  25,\n",
              "  11,\n",
              "  24,\n",
              "  18,\n",
              "  39,\n",
              "  1,\n",
              "  14,\n",
              "  7,\n",
              "  34])"
            ]
          },
          "metadata": {},
          "execution_count": 63
        }
      ]
    },
    {
      "cell_type": "code",
      "source": [
        "###############################################################################\n",
        "# BUSQUEDA LOCAL\n",
        "###############################################################################\n",
        "def genera_vecina(solucion):\n",
        "  #Generador de soluciones vecinas: 2-opt (intercambiar 2 nodos) Si hay N nodos se generan (N-1)x(N-2)/2 soluciones\n",
        "  #Se puede modificar para aplicar otros generadores distintos que 2-opt\n",
        "  #print(solucion)\n",
        "  mejor_solucion = []\n",
        "  mejor_distancia = 10e100\n",
        "  for i in range(1,len(solucion)-1):          #Recorremos todos los nodos en bucle doble para evaluar todos los intercambios 2-opt\n",
        "    for j in range(i+1, len(solucion)):\n",
        "\n",
        "      #Se genera una nueva solución intercambiando los dos nodos i,j:\n",
        "      #  (usamos el operador + que para listas en python las concatena) : ej.: [1,2] + [3] = [1,2,3]\n",
        "      vecina = solucion[:i] + [solucion[j]] + solucion[i+1:j] + [solucion[i]] + solucion[j+1:]\n",
        "\n",
        "      #Se evalua la nueva solución ...\n",
        "      distancia_vecina = distancia_total(vecina, problem)\n",
        "\n",
        "      #... para guardarla si mejora las anteriores\n",
        "      if distancia_vecina <= mejor_distancia:\n",
        "        mejor_distancia = distancia_vecina\n",
        "        mejor_solucion = vecina\n",
        "  return mejor_solucion\n",
        "\n",
        "\n",
        "#solucion = [1, 47, 13, 41, 40, 19, 42, 44, 37, 5, 22, 28, 3, 2, 29, 21, 50, 34, 30, 9, 16, 11, 38, 49, 10, 39, 33, 45, 15, 24, 43, 26, 31, 36, 35, 20, 8, 7, 23, 48, 27, 12, 17, 4, 18, 25, 14, 6, 51, 46, 32]\n",
        "print(\"Distancia Solucion Incial:\" , distancia_total(solucion, problem))\n",
        "\n",
        "\n",
        "nueva_solucion = genera_vecina(solucion)\n",
        "print(\"Distancia Mejor Solucion Local:\", distancia_total(nueva_solucion, problem))\n"
      ],
      "metadata": {
        "colab": {
          "base_uri": "https://localhost:8080/",
          "height": 0
        },
        "id": "sOo-N3yIX7bp",
        "outputId": "d8675351-3fc5-4bcd-8b17-6b776789ca3a"
      },
      "execution_count": 72,
      "outputs": [
        {
          "output_type": "stream",
          "name": "stdout",
          "text": [
            "Distancia Solucion Incial: 4900\n",
            "Distancia Mejor Solucion Local: 4416\n"
          ]
        }
      ]
    },
    {
      "cell_type": "code",
      "source": [
        "###############################################################################\n",
        "# BUSQUEDA LOCAL MEJORADA 1\n",
        "###############################################################################\n",
        "\n",
        "#Intercambio aleatorio de dos ciudades de la ruta\n",
        "\n",
        "def intercambiar_ciudades(solucion):\n",
        "\n",
        "    # Elijo dos ciudades aleatorias\n",
        "    i, j = random.sample(range(len(solucion)), 2)\n",
        "\n",
        "    #Copio la solución propocionada a una variable nueva\n",
        "    nueva_ruta = solucion[:]\n",
        "\n",
        "    #Intercambio de la posición de la ciudad\n",
        "    nueva_ruta[i], nueva_ruta[j] = nueva_ruta[j], nueva_ruta[i]\n",
        "\n",
        "    return i, j, nueva_ruta\n",
        "\n",
        "x, y, nueva_solucion = intercambiar_ciudades(solucion)\n",
        "\n",
        "\n",
        "print(solucion)\n",
        "print('')\n",
        "print(f\"Intercambio la ciudad de índice {x} con la de posición {y}\")\n",
        "print(nueva_solucion)\n",
        "print('')\n",
        "print(\"Distancia Mejor Solucion Local - Intercambio:\", distancia_total(nueva_solucion, problem))"
      ],
      "metadata": {
        "colab": {
          "base_uri": "https://localhost:8080/",
          "height": 0
        },
        "id": "dlLkFKVlVOvu",
        "outputId": "06e7668d-bf56-449c-c04d-73036c07b9dc"
      },
      "execution_count": 70,
      "outputs": [
        {
          "output_type": "stream",
          "name": "stdout",
          "text": [
            "[0, 30, 1, 18, 36, 13, 38, 8, 24, 41, 16, 6, 17, 34, 9, 27, 39, 26, 2, 33, 20, 29, 3, 10, 19, 14, 11, 32, 37, 23, 4, 5, 25, 7, 12, 40, 31, 22, 28, 21, 15, 35]\n",
            "\n",
            "Intercambio la ciudad de índice 4 con la de posición 21\n",
            "[0, 30, 1, 18, 29, 13, 38, 8, 24, 41, 16, 6, 17, 34, 9, 27, 39, 26, 2, 33, 20, 36, 3, 10, 19, 14, 11, 32, 37, 23, 4, 5, 25, 7, 12, 40, 31, 22, 28, 21, 15, 35]\n",
            "\n",
            "Distancia Mejor Solucion Local - Intercambio: 4846\n"
          ]
        }
      ]
    },
    {
      "cell_type": "code",
      "source": [
        "###############################################################################\n",
        "# BUSQUEDA LOCAL MEJORADA 2\n",
        "###############################################################################\n",
        "\n",
        "#Insertar una ciudad aleatoria en una posición diferente\n",
        "\n",
        "def por_insercion(solucion):\n",
        "    # Elijo dos ciudades aleatorias\n",
        "    i, j = sorted(random.sample(range(len(solucion)), 2))\n",
        "\n",
        "    #Inserto la ciudad de posicion i a la posicion j, dividiendo en 4 tramos la ruta\n",
        "    nueva_ruta = solucion[:i] + solucion[i+1:j] + [solucion[i]] + solucion[j:]\n",
        "\n",
        "    return i, j, nueva_ruta\n",
        "\n",
        "\n",
        "x, y, nueva_solucion = por_insercion(solucion)\n",
        "\n",
        "print(solucion)\n",
        "print('')\n",
        "print(f\"Inserto la ciudad de índice {x} a la posición {y}\")\n",
        "print(nueva_solucion)\n",
        "print('')\n",
        "print(\"Distancia Mejor Solucion Local - Inserción:\", distancia_total(nueva_solucion, problem))"
      ],
      "metadata": {
        "colab": {
          "base_uri": "https://localhost:8080/",
          "height": 0
        },
        "id": "nrfOvjSIWz9I",
        "outputId": "df456138-eccd-4ce8-f3cf-06ebe398000f"
      },
      "execution_count": 71,
      "outputs": [
        {
          "output_type": "stream",
          "name": "stdout",
          "text": [
            "[0, 30, 1, 18, 36, 13, 38, 8, 24, 41, 16, 6, 17, 34, 9, 27, 39, 26, 2, 33, 20, 29, 3, 10, 19, 14, 11, 32, 37, 23, 4, 5, 25, 7, 12, 40, 31, 22, 28, 21, 15, 35]\n",
            "\n",
            "Inserto la ciudad de índice 1 a la posición 37\n",
            "[0, 1, 18, 36, 13, 38, 8, 24, 41, 16, 6, 17, 34, 9, 27, 39, 26, 2, 33, 20, 29, 3, 10, 19, 14, 11, 32, 37, 23, 4, 5, 25, 7, 12, 40, 31, 30, 22, 28, 21, 15, 35]\n",
            "\n",
            "Distancia Mejor Solucion Local - Inserción: 4780\n"
          ]
        }
      ]
    }
  ]
}