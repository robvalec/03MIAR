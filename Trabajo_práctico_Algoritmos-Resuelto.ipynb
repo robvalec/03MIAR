{
  "nbformat": 4,
  "nbformat_minor": 0,
  "metadata": {
    "colab": {
      "provenance": []
    },
    "kernelspec": {
      "name": "python3",
      "display_name": "Python 3"
    }
  },
  "cells": [
    {
      "cell_type": "markdown",
      "metadata": {
        "id": "hVbXYX-RfPWh"
      },
      "source": [
        "# Algoritmos de optimización - Seminario<br>\n",
        "Nombre y Apellidos: **Edgar Roberto Valarezo Vargas**  <br>\n",
        "Url: https://github.com/.../03MAIR---Algoritmos-de-Optimizacion---2019/tree/master/SEMINARIO<br>\n",
        "Problema:\n",
        "> 1. Sesiones de doblaje <br>\n",
        ">2. Organizar los horarios de partidos de La Liga<br>\n",
        ">3. Combinar cifras y operaciones\n",
        "\n",
        "Descripción del problema:(copiar enunciado)\n",
        "\n",
        "....\n",
        "\n",
        "(*) La respuesta es obligatoria\n",
        "\n",
        "\n",
        "\n",
        "\n",
        "\n",
        "                                        "
      ]
    },
    {
      "cell_type": "markdown",
      "source": [
        "**PROBLEMA 1: Sesiones de Doblaje**\n",
        "\n",
        "Se precisa coordinar el doblaje de una película. Los actores del doblaje deben coincidir en las\n",
        "tomas en las que sus personajes aparecen juntos en las diferentes tomas. Los actores de\n",
        "doblaje cobran toda la misma cantidad por cada día que deben desplazarse hasta el estudio de\n",
        "grabación independientemente del número de tomas que se graben. No es posible grabar más\n",
        "de 6 tomas por día. El objetivo es planificar las sesiones por día de manera que el gasto por los\n",
        "servicios de los actores de doblaje sea el menor posible.\n",
        "\n",
        "\n",
        "Los datos son:\n",
        "\n",
        "Número de actores: 10\n",
        "\n",
        "Número de tomas: 30\n",
        "\n",
        "Actores/Tomas: https://bit.ly/36D8IuK\n",
        "* 1 indica que el actor participa en la toma\n",
        "* 0 en caso contrario\n",
        "\n"
      ],
      "metadata": {
        "id": "2rKPYsJqy4TW"
      }
    },
    {
      "cell_type": "markdown",
      "metadata": {
        "id": "3_-exlrTgLd-"
      },
      "source": [
        "- (*)¿Cuantas posibilidades hay sin tener en cuenta las restricciones?<br>\n",
        "\n",
        "\n",
        "\n",
        "- ¿Cuantas posibilidades hay teniendo en cuenta todas las restricciones.\n",
        "\n",
        "\n"
      ]
    },
    {
      "cell_type": "markdown",
      "metadata": {
        "id": "WfCUqJyKhPcw"
      },
      "source": [
        "**Respuesta**"
      ]
    },
    {
      "cell_type": "markdown",
      "source": [
        "Tomando en cuenta que las principales restricciones del problema son:\n",
        "\n",
        "1. No se puede grabar más de 6 tomas por día, lo que limita la cantidad de trabajo diario independientemente de cuántos actores estén disponibles.\n",
        "\n",
        "2. La programación de las tomas que se tiene en el archivo Excel toma en cuenta qué actores necesitan estar presentes juntos en el estudio para una toma específica.\n",
        "\n",
        "Por ello, **sin tener en cuenta las restricciones**, básicamente se tienen infinitas respuestas, ya que las tomas podrían realizarse por múltiples vías de solución al aplicar fuerza bruta. Con esto se deben generar todas las combinaciones de tomas para cada día, y seleccionar la combinación de días que minimice el costo total.\n",
        "\n",
        "Ahora, si **tomamos en cuenta las restricciones** se tiene que realizar una combinación de las tomas por día, con respecto a los actores requeridos, siempre y cuando no superen las 6 tomas diarias."
      ],
      "metadata": {
        "id": "7xz4eJtPHJfo"
      }
    },
    {
      "cell_type": "markdown",
      "metadata": {
        "id": "dzynfVJahHoY"
      },
      "source": [
        "**Modelo para el espacio de soluciones<br>**\n",
        "- (*) ¿Cual es la estructura de datos que mejor se adapta al problema? Argumentalo.(Es posible que hayas elegido una al principio y veas la necesidad de cambiar, arguentalo)\n"
      ]
    },
    {
      "cell_type": "markdown",
      "metadata": {
        "id": "xFIJrOwKi2Ti"
      },
      "source": [
        "Respuesta"
      ]
    },
    {
      "cell_type": "markdown",
      "source": [
        "La estructura de datos que mejor se adapta al problema es un grafo, donde los nodos representan a los actores y a las tomas. Este modelo facilita la comprensión del problema, así como visualizar las relaciones entre actores y sus tomas."
      ],
      "metadata": {
        "id": "B4947ws602Ia"
      }
    },
    {
      "cell_type": "markdown",
      "metadata": {
        "id": "7Z9U2W7bi-XS"
      },
      "source": [
        "Según el modelo para el espacio de soluciones<br>\n",
        "(*)¿Cual es la función objetivo?\n",
        "\n",
        "(*)¿Es un problema de maximización o minimización?"
      ]
    },
    {
      "cell_type": "markdown",
      "metadata": {
        "id": "hBalWLM7j1_d"
      },
      "source": [
        "Respuesta"
      ]
    },
    {
      "cell_type": "markdown",
      "source": [
        "- La función objetivo es el reducir al máximo posible el gasto final por los servicios de los actores que asisten a grabar mediante la minimización del número total de días necesarios para completar todas las tomas.\n",
        "\n",
        "- Se considera que este es un problema de minimización, ya que el objetivo es reducir al mínimo el número de días de grabación y por consecuencia, el costo total."
      ],
      "metadata": {
        "id": "V7zgohjG1NmN"
      }
    },
    {
      "cell_type": "markdown",
      "metadata": {
        "id": "rlnTYgY1j6I2"
      },
      "source": [
        "Diseña un algoritmo para resolver el problema por fuerza bruta"
      ]
    },
    {
      "cell_type": "markdown",
      "metadata": {
        "id": "70rDgxYXkC8r"
      },
      "source": [
        "Respuesta"
      ]
    },
    {
      "cell_type": "code",
      "source": [
        "import numpy as np\n",
        "\n",
        "matriz_actor_x_toma = np.array([\n",
        "    [1, 1, 1, 1, 1, 0, 0, 0, 0, 0],\n",
        "    [0, 0, 1, 1, 1, 0, 0, 0, 0, 0],\n",
        "    [0, 1, 0, 0, 1, 0, 1, 0, 0, 0],\n",
        "    [1, 1, 0, 0, 0, 0, 1, 1, 0, 0],\n",
        "    [0, 1, 0, 1, 0, 0, 0, 1, 0, 0],\n",
        "    [1, 1, 0, 1, 1, 0, 0, 0, 0, 0],\n",
        "    [1, 1, 0, 1, 1, 0, 0, 0, 0, 0],\n",
        "    [1, 1, 0, 0, 0, 1, 0, 0, 0, 0],\n",
        "    [1, 1, 0, 1, 0, 0, 0, 0, 0, 0],\n",
        "    [1, 1, 0, 0, 0, 1, 0, 0, 1, 0],\n",
        "    [1, 1, 1, 0, 1, 0, 0, 1, 0, 0],\n",
        "    [1, 1, 1, 1, 0, 1, 0, 0, 0, 0],\n",
        "    [1, 0, 0, 1, 1, 0, 0, 0, 0, 0],\n",
        "    [1, 0, 1, 0, 0, 1, 0, 0, 0, 0],\n",
        "    [1, 1, 0, 0, 0, 0, 1, 0, 0, 0],\n",
        "    [0, 0, 0, 1, 0, 0, 0, 0, 0, 1],\n",
        "    [1, 0, 1, 0, 0, 0, 0, 0, 0, 0],\n",
        "    [0, 0, 1, 0, 0, 1, 0, 0, 0, 0],\n",
        "    [1, 0, 1, 0, 0, 0, 0, 0, 0, 0],\n",
        "    [1, 0, 1, 1, 1, 0, 0, 0, 0, 0],\n",
        "    [0, 0, 0, 0, 0, 1, 0, 1, 0, 0],\n",
        "    [1, 1, 1, 1, 0, 0, 0, 0, 0, 0],\n",
        "    [1, 0, 1, 0, 0, 0, 0, 0, 0, 0],\n",
        "    [0, 0, 1, 0, 0, 1, 0, 0, 0, 0],\n",
        "    [1, 1, 0, 1, 0, 0, 0, 0, 0, 1],\n",
        "    [1, 0, 1, 0, 1, 0, 0, 0, 1, 0],\n",
        "    [0, 0, 0, 1, 1, 0, 0, 0, 0, 0],\n",
        "    [1, 0, 0, 1, 0, 0, 0, 0, 0, 0],\n",
        "    [1, 0, 0, 0, 1, 1, 0, 0, 0, 0],\n",
        "    [1, 0, 0, 1, 0, 0, 0, 0, 0, 0]\n",
        "])"
      ],
      "metadata": {
        "id": "xHU_dP-gC9Oj"
      },
      "execution_count": null,
      "outputs": []
    },
    {
      "cell_type": "code",
      "source": [
        "from itertools import combinations\n",
        "import pandas as pd\n",
        "\n",
        "def optimizar_dias(matriz_actor_x_toma, max_tomas_por_dia):\n",
        "\n",
        "    actores_en_toma = {}\n",
        "\n",
        "    # Generar un array con formato donde se verifique facilmente los actores por toma\n",
        "    for i, toma in enumerate(matriz_actor_x_toma):\n",
        "        actores = []\n",
        "        for j, asistencia in enumerate(toma):\n",
        "            if asistencia == 1:\n",
        "                actores.append(j + 1)\n",
        "        actores_en_toma[i + 1] = actores\n",
        "\n",
        "    # print(actores_en_toma)\n",
        "\n",
        "    dias = []\n",
        "    tomas_pendientes = set(range(1,31))\n",
        "\n",
        "    # Recorrer cada toma planificada, con los actores necesarios para cada una de ellas\n",
        "    # En cada recorrido se evaluan las tomas no consideradas en el recorrido anterior.\n",
        "\n",
        "    while tomas_pendientes:\n",
        "        mejor_combinacion = []\n",
        "        max_actores_seleccionados = 0\n",
        "\n",
        "        # Recorrido para combinar hasta un máximo de 6 tomas por día\n",
        "        for i in range(1, max_tomas_por_dia + 1):\n",
        "\n",
        "            # Recorrido para combinar las tomas (tomadas desde su ID)\n",
        "            for combinacion in combinations(tomas_pendientes, i):\n",
        "                actores_combinados = set()\n",
        "\n",
        "                # Para cada combinación posible, se genera un Set (evitando duplicados) de actores requeridos en cada día\n",
        "                # Por ejemplo, la Toma 1 (actores 1, 2, 3, 4 y 5) combinada con la toma 16 (actores 4 y 10) resulta un arreglo [1, 2, 3, 4, 5, 10]\n",
        "                # O combinando la Toma 1 (actores 1, 2, 3, 4 y 5), toma 4 (actores 1, 2, 7 y 8) y la toma 11 (actores 1, 2, 3, 5 y 8) resulta el arreglo [1, 2, 3,4, 5, 7, 8]\n",
        "                # Con esto se actualiza el Set de actores combinados cada vez\n",
        "\n",
        "                for toma in combinacion:\n",
        "                    actores_combinados.update(actores_en_toma[toma])\n",
        "\n",
        "                # Asegurar que el numero de actores seleccionados no supere el numero de los actores combinados\n",
        "                if len(actores_combinados) > max_actores_seleccionados:\n",
        "\n",
        "                    # Con ello encuentro que la mejor combinación hasta el momento es la actual\n",
        "                    mejor_combinacion = combinacion\n",
        "\n",
        "                    # Aumentar el maximo de actores seleccionados cada vez\n",
        "                    max_actores_seleccionados = len(actores_combinados)\n",
        "\n",
        "        dias.append(mejor_combinacion)\n",
        "\n",
        "        # Eliminar de las tomas pendientes totales las tomas seleccionadas hasta el momento\n",
        "        tomas_pendientes -= set(mejor_combinacion)\n",
        "\n",
        "    return dias"
      ],
      "metadata": {
        "id": "VbGrUdNyAnS1"
      },
      "execution_count": null,
      "outputs": []
    },
    {
      "cell_type": "code",
      "source": [
        "# Restricciones\n",
        "max_tomas_por_dia = 6\n",
        "\n",
        "resultado = optimizar_dias(matriz_actor_x_toma, max_tomas_por_dia)\n",
        "print('Número de días calculados:', len(resultado))\n",
        "print(pd.DataFrame(resultado).fillna('-'))"
      ],
      "metadata": {
        "colab": {
          "base_uri": "https://localhost:8080/"
        },
        "id": "6IGgrJy-ngUE",
        "outputId": "4f85ebed-d38d-4171-a5aa-2acd01815ce4"
      },
      "execution_count": null,
      "outputs": [
        {
          "output_type": "stream",
          "name": "stdout",
          "text": [
            "Número de días calculados: 12\n",
            "     0     1     2     3\n",
            "0    1   4.0  10.0  16.0\n",
            "1    3  21.0  25.0  26.0\n",
            "2   11  12.0  15.0     -\n",
            "3    2   5.0   8.0     -\n",
            "4    6  14.0     -     -\n",
            "5    7  18.0     -     -\n",
            "6   22  29.0     -     -\n",
            "7    9  13.0  24.0     -\n",
            "8   20     -     -     -\n",
            "9   17  27.0     -     -\n",
            "10  19  28.0     -     -\n",
            "11  23  30.0     -     -\n"
          ]
        }
      ]
    },
    {
      "cell_type": "markdown",
      "metadata": {
        "id": "tgrnsC2nkFa8"
      },
      "source": [
        "Calcula la complejidad del algoritmo por fuerza bruta"
      ]
    },
    {
      "cell_type": "markdown",
      "metadata": {
        "id": "9eUd3xwckP68"
      },
      "source": [
        "Respuesta"
      ]
    },
    {
      "cell_type": "markdown",
      "source": [
        "Se tiene una complejidad exponencial, ya que se utilizan multiples bucles dentro de la función utilizada."
      ],
      "metadata": {
        "id": "KE1QXztwhyb5"
      }
    },
    {
      "cell_type": "markdown",
      "metadata": {
        "id": "txbrmLmskReM"
      },
      "source": [
        "(*)Diseña un algoritmo que mejore la complejidad del algortimo por fuerza bruta. Argumenta porque crees que mejora el algoritmo por fuerza bruta"
      ]
    },
    {
      "cell_type": "markdown",
      "metadata": {
        "id": "hLrVwt5QkZPD"
      },
      "source": [
        "Respuesta"
      ]
    },
    {
      "cell_type": "code",
      "source": [
        "# Optimización de los días planificados\n",
        "\n",
        "def optimizar_dias_planificados(dias, max_tomas_por_dia):\n",
        "    dias_optimizados = []\n",
        "    dias_cp = dias.copy()\n",
        "\n",
        "    # Recorrer cada día de la respuesta anterior para optimizarlo\n",
        "    while dias_cp:\n",
        "        dia_actual = set(dias_cp.pop(0))\n",
        "        combinado = False\n",
        "\n",
        "        # Unir los días para cumplir el máximo de 6 tomas al día\n",
        "        for i, dia in enumerate(dias_cp):\n",
        "            if len(dia_actual | set(dia)) <= max_tomas_por_dia:\n",
        "                dias_cp[i] = list(dia_actual | set(dia))\n",
        "                combinado = True\n",
        "                break\n",
        "        if not combinado:\n",
        "            dias_optimizados.append(list(dia_actual))\n",
        "    return dias_optimizados\n",
        "\n",
        "\n",
        "dias_optimizados = optimizar_dias_planificados(dias, max_tomas_por_dia)\n",
        "print('Número de días luego de optimización:', len(dias_optimizados))\n",
        "print(pd.DataFrame(dias_optimizados).fillna('-'))\n"
      ],
      "metadata": {
        "colab": {
          "base_uri": "https://localhost:8080/"
        },
        "id": "hXGcp8qKO5db",
        "outputId": "f9f07d1a-6549-40cf-f632-f6134717860d"
      },
      "execution_count": null,
      "outputs": [
        {
          "output_type": "stream",
          "name": "stdout",
          "text": [
            "Número de días luego de optimización: 5\n",
            "    0   1   2   3   4   5\n",
            "0   2   5   8  11  12  15\n",
            "1   1   4   6  10  14  16\n",
            "2   3   7  18  21  25  26\n",
            "3   9  13  20  22  24  29\n",
            "4  17  19  23  27  28  30\n"
          ]
        }
      ]
    },
    {
      "cell_type": "markdown",
      "metadata": {
        "id": "eGDB4K6uk1iN"
      },
      "source": [
        "(*)Calcula la complejidad del algoritmo"
      ]
    },
    {
      "cell_type": "markdown",
      "metadata": {
        "id": "NhpTh_BPk1ms"
      },
      "source": [
        "Respuesta"
      ]
    },
    {
      "cell_type": "markdown",
      "source": [
        "La complejidad sigue siendo de Orden exponencial, ya que sigue subordinada al Orden de las operaciones utilizadas en el punto anterior."
      ],
      "metadata": {
        "id": "TnLw0FugkPlq"
      }
    },
    {
      "cell_type": "markdown",
      "metadata": {
        "id": "3M6QjTsSkmYe"
      },
      "source": [
        "Según el problema (y tenga sentido), diseña un juego de datos de entrada aleatorios"
      ]
    },
    {
      "cell_type": "markdown",
      "metadata": {
        "id": "Jc3_OlyNkvjZ"
      },
      "source": [
        "Respuesta"
      ]
    },
    {
      "cell_type": "code",
      "metadata": {
        "id": "sJ-N2etjkyWc",
        "colab": {
          "base_uri": "https://localhost:8080/"
        },
        "outputId": "dfafbb77-1790-4f68-bd6c-95780dfb486b"
      },
      "source": [
        "datos_aleatorios = np.random.randint(2, size=(30,5))\n",
        "\n",
        "print(datos_aleatorios)"
      ],
      "execution_count": null,
      "outputs": [
        {
          "output_type": "stream",
          "name": "stdout",
          "text": [
            "[[1 1 1 0 0]\n",
            " [0 1 0 0 1]\n",
            " [1 0 1 0 0]\n",
            " [0 1 1 0 1]\n",
            " [0 1 1 0 1]\n",
            " [1 1 1 1 0]\n",
            " [0 1 1 0 1]\n",
            " [1 1 1 1 0]\n",
            " [0 1 1 1 0]\n",
            " [1 0 0 0 1]\n",
            " [1 1 0 0 1]\n",
            " [0 1 1 1 0]\n",
            " [1 0 0 1 0]\n",
            " [1 0 0 0 0]\n",
            " [0 1 1 0 0]\n",
            " [1 1 0 1 1]\n",
            " [0 1 1 0 1]\n",
            " [1 0 0 0 0]\n",
            " [1 0 0 1 0]\n",
            " [1 1 0 1 0]\n",
            " [1 0 0 0 0]\n",
            " [0 0 1 1 0]\n",
            " [1 0 0 1 0]\n",
            " [0 0 1 0 0]\n",
            " [1 0 1 0 0]\n",
            " [0 1 0 1 1]\n",
            " [1 0 1 0 0]\n",
            " [0 1 0 0 1]\n",
            " [0 1 0 0 1]\n",
            " [0 1 0 0 0]]\n"
          ]
        }
      ]
    },
    {
      "cell_type": "markdown",
      "metadata": {
        "id": "zy5ZROmjlGo1"
      },
      "source": [
        "Aplica el algoritmo al juego de datos generado"
      ]
    },
    {
      "cell_type": "markdown",
      "metadata": {
        "id": "_Cmj-PVylMsa"
      },
      "source": [
        "Respuesta"
      ]
    },
    {
      "cell_type": "code",
      "metadata": {
        "id": "Jkx8GeiYlUz1",
        "colab": {
          "base_uri": "https://localhost:8080/"
        },
        "outputId": "b07b44dc-d086-4cb5-985b-34840b19d791"
      },
      "source": [
        "maximo_tomas = 5\n",
        "resultado_test = optimizar_dias(datos_aleatorios, maximo_tomas)\n",
        "print('Número de días calculados:', len(resultado_test))\n",
        "print(pd.DataFrame(resultado_test).fillna('-'))\n",
        "\n",
        "resultado_test2 = optimizar_dias_planificados(resultado_test, maximo_tomas)\n",
        "print('Número de días luego de optimización:', len(resultado_test2))\n",
        "print(pd.DataFrame(resultado_test2).fillna('-'))"
      ],
      "execution_count": null,
      "outputs": [
        {
          "output_type": "stream",
          "name": "stdout",
          "text": [
            "Número de días calculados: 15\n",
            "     0     1     2\n",
            "0    1  16.0     -\n",
            "1    2   6.0     -\n",
            "2    3  26.0     -\n",
            "3    4   8.0     -\n",
            "4    5  13.0     -\n",
            "5    7  19.0     -\n",
            "6    9  10.0     -\n",
            "7   11  12.0     -\n",
            "8   17  20.0     -\n",
            "9   14  22.0  28.0\n",
            "10  15  23.0  29.0\n",
            "11  25  30.0     -\n",
            "12  27     -     -\n",
            "13  18  24.0     -\n",
            "14  21     -     -\n",
            "Número de días luego de optimización: 7\n",
            "    0   1     2     3     4\n",
            "0   5  19  13.0   7.0     -\n",
            "1   9  10  11.0  12.0     -\n",
            "2  14  17  20.0  22.0  28.0\n",
            "3  15  23  25.0  29.0  30.0\n",
            "4   1   2   6.0  16.0  27.0\n",
            "5  24  18     -     -     -\n",
            "6   3   4   8.0  21.0  26.0\n"
          ]
        }
      ]
    },
    {
      "cell_type": "markdown",
      "metadata": {
        "id": "eTFWUJQrtGcv"
      },
      "source": [
        "Enumera las referencias que has utilizado(si ha sido necesario) para llevar a cabo el trabajo"
      ]
    },
    {
      "cell_type": "markdown",
      "metadata": {
        "id": "YKQ_mRBttWsP"
      },
      "source": [
        "Respuesta"
      ]
    },
    {
      "cell_type": "markdown",
      "metadata": {
        "id": "kAkDPUyRtYyH"
      },
      "source": [
        "Describe brevemente las lineas de como crees que es posible avanzar en el estudio del problema. Ten en cuenta incluso posibles variaciones del problema y/o variaciones al alza del tamaño"
      ]
    },
    {
      "cell_type": "markdown",
      "metadata": {
        "id": "IE0uZmo-tZu-"
      },
      "source": [
        "Respuesta"
      ]
    },
    {
      "cell_type": "code",
      "source": [],
      "metadata": {
        "id": "G2ggNEk7j7PH"
      },
      "execution_count": null,
      "outputs": []
    }
  ]
}